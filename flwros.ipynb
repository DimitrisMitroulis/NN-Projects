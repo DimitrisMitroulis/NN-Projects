{
 "cells": [
  {
   "cell_type": "code",
   "execution_count": 4,
   "id": "9ea49bab",
   "metadata": {},
   "outputs": [],
   "source": [
    "from PIL import Image\n",
    "import os"
   ]
  },
  {
   "cell_type": "code",
   "execution_count": 111,
   "id": "55deec0e",
   "metadata": {},
   "outputs": [],
   "source": [
    "def is_jpg_file(file_path):\n",
    "    _, file_extension = os.path.splitext(file_path)\n",
    "    return file_extension.lower() == \".jpg\"\n",
    "\n",
    "\n",
    "def convert_cr2_to_jpg(cr2_file,output_dir):\n",
    "    image  = Image.open(cr2_file)\n",
    "    file_name,_ = os.path.splitext(os.path.basename(cr2_file))\n",
    "    output_path = os.path.join(output_dir, f\"{file_name}.jpg\")\n",
    "    image.save(output_path, \"JPEG\")\n",
    "    \n",
    "\n",
    "    \n",
    "    "
   ]
  },
  {
   "cell_type": "code",
   "execution_count": 112,
   "id": "7e84421a",
   "metadata": {
    "scrolled": false
   },
   "outputs": [
    {
     "name": "stdout",
     "output_type": "stream",
     "text": [
      "An error occured: [Errno 2] No such file or directory: 'E:1 102CANON\\\\IMG_0802.CR2'\n",
      "An error occured: [Errno 2] No such file or directory: 'E:1 102CANON\\\\IMG_0803.CR2'\n",
      "Image converted: E:1 102CANON\\IMG_0804.CR2\n",
      "Image converted: E:1 102CANON\\IMG_0805.CR2\n",
      "Image converted: E:1 102CANON\\IMG_0806.CR2\n",
      "Image converted: E:1 102CANON\\IMG_0807.CR2\n",
      "Image converted: E:1 102CANON\\IMG_0808.CR2\n",
      "Image converted: E:1 102CANON\\IMG_0809.CR2\n",
      "Image converted: E:1 102CANON\\IMG_0810.CR2\n",
      "Image converted: E:1 102CANON\\IMG_0811.CR2\n",
      "Converted 10 images, succ: 8, failed: 2\n"
     ]
    }
   ],
   "source": [
    "input_dir = 'E:1 102CANON'\n",
    "output_dir = \"E:1 102CANON-jpg\"\n",
    "\n",
    "\n",
    "#base image name\n",
    "# write here the image name and replace iterating numbers with \"!\"\n",
    "base_name = 'IMG_!.CR2'\n",
    "\n",
    "st_img = '0802'\n",
    "end_img = '0811'\n",
    "\n",
    "# make dir if not exist\n",
    "if not os.path.exists(output_dir):\n",
    "    os.makedirs(output_dir, 0o666)\n",
    "\n",
    "fail_count = 0\n",
    "succ_count = 0 \n",
    "total_imgs = int(end_img) - int(st_img) +1\n",
    "\n",
    "fail_imgs = []\n",
    "    \n",
    "    \n",
    "for i in range(total_imgs):\n",
    "    #convert to string but keep leading zeroes\n",
    "    img_name = base_name.replace(\"!\", str(int(st_img)+i).zfill(4))\n",
    "    img_name = input_dir+\"\\\\\"+img_name \n",
    "      \n",
    "    try:\n",
    "        convert_cr2_to_jpg(img_name,output_dir)\n",
    "        print(f\"Image converted: {img_name}\")\n",
    "        succ_count+=1\n",
    "    except Exception as e:\n",
    "        print(f\"An error occured: {e}\")\n",
    "        fail_count +=1\n",
    "        fail_imgs.append(img_name)\n",
    "\n",
    "    \n",
    "print('Converted %d images, succ: %d, failed: %d' %(succ_count+fail_count, succ_count, fail_count)) \n",
    "    \n"
   ]
  },
  {
   "cell_type": "code",
   "execution_count": 113,
   "id": "a039bac7",
   "metadata": {},
   "outputs": [
    {
     "data": {
      "text/plain": [
       "['E:1 102CANON\\\\IMG_0802.CR2', 'E:1 102CANON\\\\IMG_0803.CR2']"
      ]
     },
     "execution_count": 113,
     "metadata": {},
     "output_type": "execute_result"
    }
   ],
   "source": [
    "fail_imgs"
   ]
  },
  {
   "cell_type": "code",
   "execution_count": null,
   "id": "1126457f",
   "metadata": {},
   "outputs": [],
   "source": []
  }
 ],
 "metadata": {
  "kernelspec": {
   "display_name": "Python 3 (ipykernel)",
   "language": "python",
   "name": "python3"
  },
  "language_info": {
   "codemirror_mode": {
    "name": "ipython",
    "version": 3
   },
   "file_extension": ".py",
   "mimetype": "text/x-python",
   "name": "python",
   "nbconvert_exporter": "python",
   "pygments_lexer": "ipython3",
   "version": "3.10.4"
  },
  "varInspector": {
   "cols": {
    "lenName": 16,
    "lenType": 16,
    "lenVar": 40
   },
   "kernels_config": {
    "python": {
     "delete_cmd_postfix": "",
     "delete_cmd_prefix": "del ",
     "library": "var_list.py",
     "varRefreshCmd": "print(var_dic_list())"
    },
    "r": {
     "delete_cmd_postfix": ") ",
     "delete_cmd_prefix": "rm(",
     "library": "var_list.r",
     "varRefreshCmd": "cat(var_dic_list()) "
    }
   },
   "types_to_exclude": [
    "module",
    "function",
    "builtin_function_or_method",
    "instance",
    "_Feature"
   ],
   "window_display": false
  }
 },
 "nbformat": 4,
 "nbformat_minor": 5
}
