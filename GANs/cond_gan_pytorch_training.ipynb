{
  "cells": [
    {
      "cell_type": "code",
      "source": [
        "!pip install pytorch-ignite"
      ],
      "metadata": {
        "id": "EdADNW7SWnt5",
        "outputId": "71dfcd2d-b2ee-40a0-c119-d44efdab80df",
        "colab": {
          "base_uri": "https://localhost:8080/"
        }
      },
      "id": "EdADNW7SWnt5",
      "execution_count": 1,
      "outputs": [
        {
          "output_type": "stream",
          "name": "stdout",
          "text": [
            "Looking in indexes: https://pypi.org/simple, https://us-python.pkg.dev/colab-wheels/public/simple/\n",
            "Requirement already satisfied: pytorch-ignite in /usr/local/lib/python3.9/dist-packages (0.4.11)\n",
            "Requirement already satisfied: torch<3,>=1.3 in /usr/local/lib/python3.9/dist-packages (from pytorch-ignite) (2.0.0+cu118)\n",
            "Requirement already satisfied: packaging in /usr/local/lib/python3.9/dist-packages (from pytorch-ignite) (23.0)\n",
            "Requirement already satisfied: networkx in /usr/local/lib/python3.9/dist-packages (from torch<3,>=1.3->pytorch-ignite) (3.0)\n",
            "Requirement already satisfied: typing-extensions in /usr/local/lib/python3.9/dist-packages (from torch<3,>=1.3->pytorch-ignite) (4.5.0)\n",
            "Requirement already satisfied: triton==2.0.0 in /usr/local/lib/python3.9/dist-packages (from torch<3,>=1.3->pytorch-ignite) (2.0.0)\n",
            "Requirement already satisfied: filelock in /usr/local/lib/python3.9/dist-packages (from torch<3,>=1.3->pytorch-ignite) (3.10.7)\n",
            "Requirement already satisfied: jinja2 in /usr/local/lib/python3.9/dist-packages (from torch<3,>=1.3->pytorch-ignite) (3.1.2)\n",
            "Requirement already satisfied: sympy in /usr/local/lib/python3.9/dist-packages (from torch<3,>=1.3->pytorch-ignite) (1.11.1)\n",
            "Requirement already satisfied: cmake in /usr/local/lib/python3.9/dist-packages (from triton==2.0.0->torch<3,>=1.3->pytorch-ignite) (3.25.2)\n",
            "Requirement already satisfied: lit in /usr/local/lib/python3.9/dist-packages (from triton==2.0.0->torch<3,>=1.3->pytorch-ignite) (16.0.0)\n",
            "Requirement already satisfied: MarkupSafe>=2.0 in /usr/local/lib/python3.9/dist-packages (from jinja2->torch<3,>=1.3->pytorch-ignite) (2.1.2)\n",
            "Requirement already satisfied: mpmath>=0.19 in /usr/local/lib/python3.9/dist-packages (from sympy->torch<3,>=1.3->pytorch-ignite) (1.3.0)\n"
          ]
        }
      ]
    },
    {
      "cell_type": "code",
      "execution_count": 2,
      "id": "a493c415",
      "metadata": {
        "id": "a493c415",
        "outputId": "f0b1c601-231b-4c7d-ea73-00a11520e6f2",
        "colab": {
          "base_uri": "https://localhost:8080/"
        }
      },
      "outputs": [
        {
          "output_type": "stream",
          "name": "stdout",
          "text": [
            "Device:cuda\n"
          ]
        }
      ],
      "source": [
        "# %% Import and stuff\n",
        "import torch\n",
        "from torch import nn\n",
        "from torchvision import transforms\n",
        "import torchvision\n",
        "import matplotlib.pyplot as plt\n",
        "import torch.nn.functional as F\n",
        "from torch.autograd import Variable\n",
        "import numpy as np\n",
        "import time\n",
        "import random\n",
        "import torchvision.utils as vutils\n",
        "from  torch.utils import data\n",
        "from mpl_toolkits.axes_grid1 import ImageGrid\n",
        "from ignite.metrics import FID\n",
        "\n",
        "from ignite.engine import *\n",
        "from ignite.handlers import *\n",
        "from ignite.metrics import *\n",
        "from ignite.utils import *\n",
        "from ignite.contrib.metrics.regression import *\n",
        "from ignite.contrib.metrics import *\n",
        "from collections import OrderedDict\n",
        "\n",
        "\n",
        "\n",
        "NUM_EPOCHS = 10\n",
        "LR = 0.0002\n",
        "LATENT_DIM = 100\n",
        "IMG_SIZE = 28\n",
        "CHANNELS = 1\n",
        "B1 = 0.5\n",
        "B2 = 0.999\n",
        "\n",
        "\n",
        "GEN_STATE_DICT = \"gen_state_dict\"\n",
        "DISC_STATE_DICT = \"disc_state_dict\"\n",
        "GEN_OPTIMIZER = \"gen_optimizer\"\n",
        "DISC_OPTIMIZER = \"disc_optimizer\"\n",
        "G_LOSSES = \"g_losses\"\n",
        "D_LOSSES = \"d_losses\"\n",
        "\n",
        "\n",
        "\n",
        "SHUFFLE = True\n",
        "PIN_MEMORY = True\n",
        "NUM_WORKERS = 0\n",
        "BATCH_SIZE = 2500\n",
        "\n",
        "specific_latent = torch.tensor([[0.7628, 0.1779, 0.3978, 0.3606, 0.6387,\n",
        "         0.3044, 0.8340, 0.3884, 0.9313, 0.5635, 0.1994, 0.6934, 0.5326,\n",
        "         0.3676, 0.5342, 0.9480, 0.4120, 0.5845, 0.4035, 0.5298, 0.0177,\n",
        "         0.5605, 0.6453, 0.9576, 0.7153, 0.1923, 0.8122, 0.0937, 0.5744,\n",
        "         0.5951, 0.8890, 0.4838, 0.5707, 0.6760, 0.3738, 0.2796, 0.1549,\n",
        "         0.8220, 0.2800, 0.4051, 0.2553, 0.1831, 0.0046, 0.9021, 0.0264,\n",
        "         0.2327, 0.8261, 0.0534, 0.1582, 0.4087, 0.9047, 0.1409, 0.6864,\n",
        "         0.1439, 0.3432, 0.1072, 0.5907, 0.6756, 0.6942, 0.6814, 0.3368,\n",
        "         0.4138, 0.8030, 0.7024, 0.3309, 0.7288, 0.2193, 0.1954, 0.9948,\n",
        "         0.1201, 0.9483, 0.7407, 0.4849, 0.6500, 0.8649, 0.7405, 0.4725,\n",
        "         0.5373, 0.6541, 0.5444, 0.7425, 0.8940, 0.3580, 0.3905, 0.8924,\n",
        "         0.2995, 0.3726, 0.5399, 0.3057, 0.3380, 0.8313, 0.1137, 0.0120,\n",
        "         0.7714, 0.2561, 0.2569, 0.2994, 0.7648, 0.2413, 0.6101\n",
        "        ]])\n",
        "\n",
        "\n",
        "img_shape = (CHANNELS, IMG_SIZE, IMG_SIZE)\n",
        "\n",
        "device = torch.device(\"cuda\" if torch.cuda.is_available() else \"cpu\")\n",
        "print('Device:{}'.format(device))\n"
      ]
    },
    {
      "cell_type": "code",
      "execution_count": 3,
      "id": "56f4e4cf",
      "metadata": {
        "id": "56f4e4cf"
      },
      "outputs": [],
      "source": [
        "# %% helper funcitons\n",
        "\n",
        "\n",
        "def save_checkpoint(state, filename):\n",
        "    print(\"=> Saving chekpoint\")\n",
        "    torch.save(state, filename)\n",
        "\n",
        "\n",
        "def load_checkpoint(checkpoint):\n",
        "    generator.load_state_dict(checkpoint[GEN_STATE_DICT])\n",
        "    optimizer_G.load_state_dict(checkpoint[GEN_OPTIMIZER])\n",
        "    discriminator.load_state_dict(checkpoint[DISC_STATE_DICT])\n",
        "    optimizer_D.load_state_dict(checkpoint[DISC_OPTIMIZER])\n",
        "    G_losses = checkpoint[G_LOSSES]\n",
        "    D_losses = checkpoint[D_LOSSES]\n",
        "    \n",
        "\n",
        "\n",
        "# takes input tensor and return a tensor of same size but every element has different value\n",
        "def build_fake_labels(old_list):\n",
        "  \n",
        "    new_list = []\n",
        "\n",
        "    for i, x in enumerate(old_list):\n",
        "\n",
        "        if (i % 10) != x:\n",
        "            new_list.append(i % 10)\n",
        "        else:\n",
        "            new_list.append((x.item()+1) % 10)\n",
        "\n",
        "    return torch.tensor(new_list, dtype=torch.int64).to(device)\n",
        "\n",
        "\n",
        "def add_noise(inputs, variance):\n",
        "    noise = torch.randn_like(inputs)\n",
        "    return inputs + variance*noise\n",
        "\n",
        "def gen_image(caption=-1,randomLatent=True):\n",
        "    generator.to('cpu')\n",
        "    discriminator.to('cpu')\n",
        "\n",
        "    with torch.no_grad():\n",
        "        for image,_ in train_loader:\n",
        "            f, axarr = plt.subplots(1)\n",
        "            \n",
        "            if randomLatent:\n",
        "                latent = torch.rand_like(torch.Tensor(1,100))\n",
        "            else:\n",
        "                latent = specific_latent\n",
        "                \n",
        "            if caption == -1:\n",
        "                caption = random.randint(0, 9)\n",
        "            \n",
        "            caption = torch.tensor(caption, dtype=torch.int64)\n",
        "            fake_image = generator(latent,caption)  \n",
        "           \n",
        "            \n",
        "            #axarr.imshow(add_noise(image[0][0],0.5))    \n",
        "            axarr.imshow(fake_image[0][0])   \n",
        "            print(\"Supposed to be %d\" %caption.item())\n",
        "    \n",
        "            break\n",
        "        \n",
        "def discriminate_image(caption=-1,genOrReal=0):#random.randint(0, 1)):\n",
        "    generator.to('cpu')\n",
        "    discriminator.to('cpu')\n",
        "    \n",
        "    with torch.no_grad():\n",
        "        for  i, (imgs, labels) in enumerate(example_loader):\n",
        "            f, axarr = plt.subplots(1)\n",
        "            \n",
        "            fake_labels = build_fake_labels(labels.to(device))\n",
        "            labels = labels.to('cpu')\n",
        "            z = Variable(Tensor(np.random.normal(0, 1, (1,LATENT_DIM)))).cpu()\n",
        "            if caption == -1:\n",
        "                caption = random.randint(0, 9)\n",
        "            caption = torch.tensor(caption, dtype=torch.int64)\n",
        "            \n",
        "            \n",
        "            #feed discriminator fake image, expect \"0\" output\n",
        "            if genOrReal == 0:\n",
        "                fake_image = generator(z,caption)\n",
        "                axarr.imshow(fake_image[0].reshape(-1, 28, 28)[0])\n",
        "                pred = discriminator(fake_image,caption).detach()\n",
        "                print(\"Discriminator Prediction: {},Should be: {}, label = {}\".format(pred,\"0\",caption))\n",
        "            #feed discriminator real image, expect \"1\" output\n",
        "            else:\n",
        "                fake_image = generator(z,labels[0])\n",
        "                axarr.imshow(imgs[0].reshape(-1, 28, 28)[0])\n",
        "                pred = discriminator(imgs.detach(),labels[0].detach()).detach()\n",
        "                print(\"Discriminator Prediction: {},Should be: {}, label= {}\".format(pred,\"1\",labels[0]+1))\n",
        "            \n",
        "    \n",
        "            break"
      ]
    },
    {
      "cell_type": "code",
      "execution_count": 4,
      "id": "e8e59f16",
      "metadata": {
        "id": "e8e59f16"
      },
      "outputs": [],
      "source": [
        "# %%train data\n",
        "\n",
        "transform = transforms.Compose([\n",
        "    transforms.ToTensor(),\n",
        "    transforms.Normalize([0.5], [0.5])\n",
        "    ])\n",
        "\n",
        "\n",
        "train_dataset = torchvision.datasets.MNIST(\n",
        "    root=\"~/torch_datasets\", train=True, transform=transform, download=True\n",
        ")\n",
        "\n",
        "test_dataset = torchvision.datasets.MNIST(\n",
        "    root=\"~/torch_datasets\", train=False, transform=transform, download=True\n",
        ")\n",
        "\n",
        "train_loader = data.DataLoader(\n",
        "                                train_dataset,\n",
        "                                batch_size=BATCH_SIZE,\n",
        "                                shuffle=False,\n",
        "                                num_workers=NUM_WORKERS,\n",
        "                                pin_memory=False\n",
        "                                )\n",
        "\n",
        "test_loader = data.DataLoader(\n",
        "                                test_dataset,\n",
        "                                batch_size=BATCH_SIZE,\n",
        "                                shuffle=True,\n",
        "                                pin_memory=False\n",
        "                                )\n",
        "\n",
        "example_loader = data.DataLoader(\n",
        "                                train_dataset,\n",
        "                                batch_size=1,\n",
        "                                shuffle=True,\n",
        "                                num_workers=0,\n",
        "                                drop_last=True,\n",
        "                                )\n"
      ]
    },
    {
      "cell_type": "code",
      "execution_count": 5,
      "id": "97624d9f",
      "metadata": {
        "id": "97624d9f"
      },
      "outputs": [],
      "source": [
        "# %% Detective: fake or no fake -> 1 output [0, 1]\n",
        "class Discriminator(nn.Module):\n",
        "    def __init__(self):\n",
        "        super().__init__()\n",
        "\n",
        "        self.conv1 = nn.Conv2d(2, 10, kernel_size=5)\n",
        "        self.conv2 = nn.Conv2d(10, 20, kernel_size=5)\n",
        "        self.conv2_drop = nn.Dropout2d()\n",
        "        self.fc1 = nn.Linear(320, 50)\n",
        "        self.fc2 = nn.Linear(50, 1)\n",
        "\n",
        "        self.emb = nn.Embedding(10, 50)\n",
        "        self.emb_fc = nn.Linear(50, 784)\n",
        "\n",
        "        self.nconv1 = nn.Conv2d(2, 64, kernel_size=5)\n",
        "        self.nconv2 = nn.Conv2d(64, 128, kernel_size=5)\n",
        "        self.pool = nn.AvgPool2d(kernel_size=3)\n",
        "        self.pool2 = nn.AvgPool2d(kernel_size=2)\n",
        "        self.nfc1 = nn.Linear(1152, 164)\n",
        "        self.nfc2 = nn.Linear(164, 1)\n",
        "\n",
        "    # oldWay flag to select between 2 train methods, not sure which is best yet\n",
        "    def forward(self, x, c, oldWay=False):\n",
        "\n",
        "        c = self.emb(c)\n",
        "        c = self.emb_fc(c)\n",
        "        c = c.view(-1, 1, 28, 28)\n",
        "        x = torch.cat((c, x), 1)  # concat image[1,28,28] with text [1,28,28]\n",
        "\n",
        "        x = F.leaky_relu(self.nconv1(x))\n",
        "        x = F.leaky_relu(self.nconv2(x))\n",
        "        x = self.pool(x)\n",
        "        x = self.pool2(x)\n",
        "        x = x.view(-1, 1152)\n",
        "        x = F.leaky_relu(self.nfc1(x))\n",
        "        x = F.dropout(x, training=self.training)\n",
        "        x = self.nfc2(x)\n",
        "\n",
        "        x = torch.sigmoid(x)\n",
        "        return x\n",
        "\n",
        "\n",
        "# %% Generate Fake Data: output like real data [1, 28, 28] and values -1, 1\n",
        "class Generator(nn.Module):\n",
        "    def __init__(self):\n",
        "        super().__init__()\n",
        "        self.lin1 = nn.Linear(LATENT_DIM, 7*7*63)  # [n,100]->[n,3087]\n",
        "        self.ct1 = nn.ConvTranspose2d(64, 32, 4, stride=2)  # [n, 64, 16, 16] [32,..,..]\n",
        "        self.ct2 = nn.ConvTranspose2d(32, 16, 4, stride=2)  # [n, 32, , ]->[n, 16, 34, 34]\n",
        "        self.conv = nn.Conv2d(16, 1, kernel_size=7)  # [n, 16, 34, 34]-> [n, 1, 28, 28]\n",
        "        \n",
        "        self.emb = nn.Embedding(10, 50) \n",
        "        self.label_lin = nn.Linear(50, 49)\n",
        "        self.conv_x_c = nn.ConvTranspose2d(65, 64, 4, stride=2)  # upsample [65,7,7] -> [64,14,14]\n",
        "        self.tanh = nn.Tanh()\n",
        "\n",
        "    def forward(self, x, c):\n",
        "        # Pass latent space input into linear layer and reshape\n",
        "        x = self.lin1(x)  # (n,100) -> (n,3187)\n",
        "        x = F.leaky_relu(x)\n",
        "        x = x.view(-1, 63, 7, 7)  # (n,3187) -> (63,7,7)\n",
        "        \n",
        "        #Encode label\n",
        "        c = self.emb(c)  # (n,) -> (n,50)\n",
        "        c = self.label_lin(c)  # (n,50) -> (n,49)\n",
        "        c = c.view(-1, 1, 7, 7)  # (n,49) -> (n,1,7,7)\n",
        "        x = torch.cat((c, x), 1) # concat image[63,7,7] with text [1,7,7]\n",
        "\n",
        "        x = self.ct1(x)  # [n, 64, 16, 16] [32,34,34]\n",
        "        x = F.leaky_relu(x)\n",
        "\n",
        "        # Upsample to 34x34 (16 feature maps)\n",
        "        x = self.ct2(x)\n",
        "        x = F.leaky_relu(x)\n",
        "\n",
        "        # Convolution to 28x28 (1 feature map)\n",
        "        x = self.tanh(self.conv(x))\n",
        "        return x"
      ]
    },
    {
      "cell_type": "code",
      "execution_count": 12,
      "id": "abc07c4f",
      "metadata": {
        "id": "abc07c4f"
      },
      "outputs": [],
      "source": [
        "#%% Loss fucntion, optimizers\n",
        "loss_func = nn.BCELoss()\n",
        "recon_loss = nn.MSELoss()\n",
        "\n",
        "# Initialize generator and discriminator\n",
        "generator = Generator().to(device)\n",
        "discriminator = Discriminator().to(device)\n",
        "\n",
        "if torch.cuda.is_available():\n",
        "    generator.cuda()\n",
        "    discriminator.cuda()\n",
        "    loss_func.cuda()\n",
        "\n",
        "optimizer_G = torch.optim.Adam(generator.parameters(), lr=LR,betas=(B1 ,B2))\n",
        "optimizer_D = torch.optim.Adam(discriminator.parameters(), lr=LR,betas=(B1 ,B2))\n",
        "\n",
        "Tensor = torch.cuda.FloatTensor if torch.cuda.is_available() else torch.FloatTensor"
      ]
    },
    {
      "cell_type": "code",
      "source": [
        "#%% Train both models\n",
        "if torch.cuda.is_available():\n",
        "    generator.to(device)\n",
        "    discriminator.to(device)\n",
        "    loss_func.to(device)\n",
        "\n",
        "\n",
        "NUM_EPOCHS = 10\n",
        "\n",
        "#--Discriminator\n",
        "D_losses = []\n",
        "fake_losses = []\n",
        "real_losses = []\n",
        "\n",
        "\n",
        "#--Generator\n",
        "G_losses = []\n",
        "bce_losses = []\n",
        "#mse_losses = []\n",
        "\n",
        "\n",
        "if __name__ == '__main__':\n",
        "    for epoch in range(NUM_EPOCHS):\n",
        "      for i, (imgs, labels) in enumerate(train_loader):\n",
        "        \n",
        "\n",
        "        # -----------------\n",
        "        # Things to use later\n",
        "        # -----------------\n",
        "        # Adversarial ground truths\n",
        "        valid = Variable(Tensor(imgs.size(0), 1).fill_(1.0), requires_grad=False)\n",
        "        fake = Variable(Tensor(imgs.size(0), 1).fill_(0.0), requires_grad=False)\n",
        "        \n",
        "        # Sample noise as generator input\n",
        "        z = Variable(Tensor(np.random.normal(0, 1, (imgs.shape[0],LATENT_DIM))))\n",
        "\n",
        "        # transform to tensor [batch_size,1,28,28]\n",
        "        real_imgs = Variable(imgs.type(Tensor)).to(device)\n",
        "        #fake_labels = build_fake_labels(labels.to(device))\n",
        "        \n",
        "        labels = labels.to(device)\n",
        "        \n",
        "        # -----------------\n",
        "        # Train discriminator\n",
        "        # -----------------\n",
        "        optimizer_D.zero_grad()\n",
        "        \n",
        "        #Discriminate real_images\n",
        "        real_pred = discriminator(real_imgs,labels)\n",
        "        real_loss = loss_func(real_pred,valid)\n",
        "\n",
        "        # Generate a batch of fake images\n",
        "        fake_imgs = generator(z,labels)\n",
        "        \n",
        "        # Calculate D's loss on the all-fake batch\n",
        "        fake_pred = discriminator(fake_imgs.detach(),labels.detach())\n",
        "        fake_loss = loss_func(fake_pred, fake)\n",
        "        \n",
        "        d_loss = real_loss + fake_loss\n",
        "        d_loss.backward()\n",
        "        optimizer_D.step()\n",
        "\n",
        "        fake_loss = fake_loss.mean().item()\n",
        "        real_loss = real_loss.mean().item()\n",
        "\n",
        "        \n",
        "        # -----------------\n",
        "        #  Train Generator\n",
        "        # -----------------\n",
        "        optimizer_G.zero_grad()\n",
        "        \n",
        "        #Calculate recon loss and bce loss            \n",
        "        fake_imgs = generator(z,labels)\n",
        "        fake_pred = discriminator(fake_imgs,labels)\n",
        "\n",
        "        #mse_loss  = recon_loss(fake_imgs,real_imgs)\n",
        "        bce_loss = loss_func(fake_pred,valid)\n",
        "    \n",
        "        #Overall loss\n",
        "        g_loss = bce_loss\n",
        "        g_loss.backward()\n",
        "        optimizer_G.step()\n",
        "\n",
        "        bce_loss = bce_loss.mean().item()\n",
        "        #mse_loss = mse_loss.mean().item()\n",
        "        \n",
        "        # Output training stats\n",
        "        if i % 50 == 0:\n",
        "            print('[%d/%d] Loss_D: %.4f\\tLoss_G: %.4f (%.4f)fake_pred: %.4f real_pred: %.4f'\n",
        "                  % (epoch, NUM_EPOCHS, d_loss.item(), g_loss, bce_loss, fake_loss, real_loss  ))\n",
        "\n",
        "        # Save Losses for plotting later\n",
        "        G_losses.append(g_loss.item())\n",
        "        D_losses.append(d_loss.item())\n",
        "        bce_losses.append(bce_loss)\n",
        "        #mse_losses.append(mse_loss)\n",
        "        \n",
        "        fake_losses.append(fake_loss)\n",
        "        real_losses.append(real_loss)\n",
        "\n",
        "\n",
        "      "
      ],
      "metadata": {
        "id": "kofnyUEESCrd",
        "outputId": "9ea8f664-c284-49e0-f0c6-1faf879a1aa5",
        "colab": {
          "base_uri": "https://localhost:8080/"
        }
      },
      "id": "kofnyUEESCrd",
      "execution_count": 13,
      "outputs": [
        {
          "output_type": "stream",
          "name": "stdout",
          "text": [
            "[0/10] Loss_D: 1.3914\tLoss_G: 0.7039 (0.7039)fake_pred: 0.6746 real_pred: 0.7167\n",
            "[1/10] Loss_D: 0.2336\tLoss_G: 2.6156 (2.6156)fake_pred: 0.1249 real_pred: 0.1088\n",
            "[2/10] Loss_D: 0.0179\tLoss_G: 4.6860 (4.6860)fake_pred: 0.0123 real_pred: 0.0057\n",
            "[3/10] Loss_D: 0.0459\tLoss_G: 4.2979 (4.2979)fake_pred: 0.0193 real_pred: 0.0266\n",
            "[4/10] Loss_D: 0.3342\tLoss_G: 2.6807 (2.6807)fake_pred: 0.1539 real_pred: 0.1803\n",
            "[5/10] Loss_D: 0.4333\tLoss_G: 1.0471 (1.0471)fake_pred: 0.0419 real_pred: 0.3914\n",
            "[6/10] Loss_D: 0.3828\tLoss_G: 1.8632 (1.8632)fake_pred: 0.1205 real_pred: 0.2623\n",
            "[7/10] Loss_D: 0.3512\tLoss_G: 2.3031 (2.3031)fake_pred: 0.1325 real_pred: 0.2186\n",
            "[8/10] Loss_D: 0.3948\tLoss_G: 2.6634 (2.6634)fake_pred: 0.1731 real_pred: 0.2217\n",
            "[9/10] Loss_D: 0.4574\tLoss_G: 2.5576 (2.5576)fake_pred: 0.1862 real_pred: 0.2712\n"
          ]
        }
      ]
    },
    {
      "cell_type": "code",
      "source": [
        "gen_image()"
      ],
      "metadata": {
        "id": "B5fq8Jz5Y_CQ",
        "outputId": "0599138e-fb4e-4d4e-a93e-8affda706218",
        "colab": {
          "base_uri": "https://localhost:8080/",
          "height": 447
        }
      },
      "id": "B5fq8Jz5Y_CQ",
      "execution_count": 15,
      "outputs": [
        {
          "output_type": "stream",
          "name": "stdout",
          "text": [
            "Supposed to be 4\n"
          ]
        },
        {
          "output_type": "display_data",
          "data": {
            "text/plain": [
              "<Figure size 640x480 with 1 Axes>"
            ],
            "image/png": "[encoded data removed]"
          },
          "metadata": {}
        }
      ]
    },
    {
      "cell_type": "code",
      "source": [
        "# %%Plot Losses\n",
        "\n",
        "plt.figure(figsize=(11,5))\n",
        "plt.title(\"Generator and Discriminator Loss During Training\")\n",
        "plt.plot(G_losses[:], label=\"G_losses\")\n",
        "plt.plot(D_losses[:], label=\"D_losses\")\n",
        "#plt.plot(sampled_list[:], label=\"sampled\")\n",
        "\n",
        "\n",
        "#plt.plot(sf_losses[:], label=\"real_losses\")\n",
        "#plt.plot(sr_losses[:], label=\"fake_losses\")\n",
        "#plt.plot(wr_losses[:], label=\"wr_losses\")\n",
        "\n",
        "#plt.plot(rec_losses[:], label=\"gen_losses\")\n",
        "#plt.plot(g_bce_losses[:], label=\"int_losses\")\n",
        "\n",
        "plt.xlabel(\"iterations\")\n",
        "plt.ylabel(\"Loss\")\n",
        "plt.legend()\n",
        "plt.show()\n"
      ],
      "metadata": {
        "id": "PLHlbXfPaZ2Y",
        "outputId": "eab004f0-2639-42fc-8a7b-8bc363cb6e51",
        "colab": {
          "base_uri": "https://localhost:8080/",
          "height": 487
        }
      },
      "id": "PLHlbXfPaZ2Y",
      "execution_count": 16,
      "outputs": [
        {
          "output_type": "display_data",
          "data": {
            "text/plain": [
              "<Figure size 1100x500 with 1 Axes>"
            ],
            "image/png": "[encoded data removed]"
          },
          "metadata": {}
        }
      ]
    },
    {
      "cell_type": "code",
      "source": [
        "# %% Save Model\n",
        "checkpoint = {GEN_STATE_DICT : generator.state_dict(), \n",
        "              GEN_OPTIMIZER : optimizer_G.state_dict(),\n",
        "              DISC_STATE_DICT : discriminator.state_dict(),\n",
        "              DISC_OPTIMIZER : optimizer_D.state_dict()}\n",
        "save_checkpoint(checkpoint, \"cond_gan_pytorch_good.pth.tar\")"
      ],
      "metadata": {
        "id": "5GuzWkgwSIq_",
        "outputId": "b3f3485f-fc78-4b4f-e824-dab136ed393e",
        "colab": {
          "base_uri": "https://localhost:8080/"
        }
      },
      "id": "5GuzWkgwSIq_",
      "execution_count": null,
      "outputs": [
        {
          "output_type": "stream",
          "name": "stdout",
          "text": [
            "=> Saving chekpoint\n"
          ]
        }
      ]
    },
    {
      "cell_type": "code",
      "execution_count": null,
      "id": "9e61a176",
      "metadata": {
        "id": "9e61a176"
      },
      "outputs": [],
      "source": [
        "load_checkpoint(torch.load(\"cond_gan_pytorch11.pth.tar\",map_location=(device)))\n"
      ]
    },
    {
      "cell_type": "code",
      "execution_count": null,
      "id": "b608e244",
      "metadata": {
        "id": "b608e244"
      },
      "outputs": [],
      "source": [
        "\n",
        "fake_images = []\n",
        "real_images = []\n",
        "with torch.no_grad():\n",
        "    generator.to('cpu')\n",
        "    discriminator.to('cpu')\n",
        "    \n",
        "    for i, (imgs,_) in enumerate(train_loader):\n",
        "        #real_images = imgs\n",
        "        \n",
        "        caption = random.randint(0, 9)   \n",
        "        caption = torch.tensor(caption, dtype=torch.int64)\n",
        "        latent = torch.rand_like(torch.Tensor(1,100))\n",
        "        fake_images = generator(latent,caption)\n",
        "        \n",
        "        \n",
        "        for i in range(len(imgs[:,0,0,0])):\n",
        "            \n",
        "            caption = random.randint(0, 9)   \n",
        "            caption = torch.tensor(caption, dtype=torch.int64)\n",
        "            latent = torch.rand_like(torch.Tensor(1,100))\n",
        "            \n",
        "\n",
        "            \n",
        "            fake_image = generator(latent,caption)\n",
        "            fake_images = torch.cat((fake_images, fake_image), 0)\n",
        "\n",
        "        break\n",
        "    \n",
        "    fake_images = fake_images[:2000,:,:,:]"
      ]
    },
    {
      "cell_type": "code",
      "execution_count": null,
      "id": "48014174",
      "metadata": {
        "id": "48014174",
        "outputId": "5d504101-806d-405a-b055-3830353b0456",
        "colab": {
          "base_uri": "https://localhost:8080/"
        }
      },
      "outputs": [
        {
          "output_type": "stream",
          "name": "stdout",
          "text": [
            "one\n"
          ]
        }
      ],
      "source": [
        "\n",
        "fake_images = []\n",
        "real_images = []\n",
        "with torch.no_grad():\n",
        "    generator.to('cpu')\n",
        "    discriminator.to('cpu')\n",
        "\n",
        "    for i, (imgs,label) in enumerate(train_loader):\n",
        "        real_images = imgs\n",
        "        \n",
        "        #caption = random.randint(0, 9)   \n",
        "        #caption = torch.tensor(caption, dtype=torch.int64)\n",
        "        #latent = torch.rand_like(torch.Tensor(1,100))\n",
        "        #fake_images = generator(latent,caption)\n",
        "        \n",
        "        \n",
        "        for i in range(BATCH_SIZE):\n",
        "          caption = label[i]\n",
        "          latent = torch.rand_like(torch.Tensor(1,100))\n",
        "          fake_image = generator(latent,caption)\n",
        "\n",
        "          if (i==0):\n",
        "            print('one')\n",
        "            fake_images = generator(latent,caption)\n",
        "          else:\n",
        "            fake_images = torch.cat((fake_images, fake_image), 0)\n",
        "        break\n",
        "    \n",
        "    #fake_images = fake_images[:BATCH_SIZE,:,:,:]\n",
        "    #real_images = real_images[:BATCH_SIZE,:,:,:]"
      ]
    },
    {
      "cell_type": "code",
      "execution_count": null,
      "id": "645ba33b",
      "metadata": {
        "id": "645ba33b",
        "outputId": "a16ec0b1-2731-4e06-d611-4b6bb2cb0310",
        "colab": {
          "base_uri": "https://localhost:8080/"
        }
      },
      "outputs": [
        {
          "output_type": "stream",
          "name": "stdout",
          "text": [
            "MSE: 0.20597858726978302\n"
          ]
        }
      ],
      "source": [
        "#MSE loss\n",
        "\n",
        "# create two tensors\n",
        "y_true = real_images\n",
        "y_pred = fake_images\n",
        "\n",
        "# create a criterion for calculating MSE\n",
        "criterion = nn.MSELoss()\n",
        "\n",
        "# calculate MSE\n",
        "mse = criterion(y_pred, y_true)\n",
        "\n",
        "# print the result\n",
        "print(\"MSE:\", mse.item())\n"
      ]
    }
  ],
  "metadata": {
    "kernelspec": {
      "display_name": "Python 3 (ipykernel)",
      "language": "python",
      "name": "python3"
    },
    "language_info": {
      "codemirror_mode": {
        "name": "ipython",
        "version": 3
      },
      "file_extension": ".py",
      "mimetype": "text/x-python",
      "name": "python",
      "nbconvert_exporter": "python",
      "pygments_lexer": "ipython3",
      "version": "3.10.4"
    },
    "varInspector": {
      "cols": {
        "lenName": 16,
        "lenType": 16,
        "lenVar": 40
      },
      "kernels_config": {
        "python": {
          "delete_cmd_postfix": "",
          "delete_cmd_prefix": "del ",
          "library": "var_list.py",
          "varRefreshCmd": "print(var_dic_list())"
        },
        "r": {
          "delete_cmd_postfix": ") ",
          "delete_cmd_prefix": "rm(",
          "library": "var_list.r",
          "varRefreshCmd": "cat(var_dic_list()) "
        }
      },
      "types_to_exclude": [
        "module",
        "function",
        "builtin_function_or_method",
        "instance",
        "_Feature"
      ],
      "window_display": false
    },
    "colab": {
      "provenance": []
    },
    "accelerator": "GPU",
    "gpuClass": "standard"
  },
  "nbformat": 4,
  "nbformat_minor": 5
}