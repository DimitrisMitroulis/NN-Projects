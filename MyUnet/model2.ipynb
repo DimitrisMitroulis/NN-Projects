{
 "cells": [
  {
   "cell_type": "markdown",
   "id": "0d67e896",
   "metadata": {},
   "source": [
    "## Image segmentation using UNET \n",
    "![UNET model architecture](UNET.jpg)\n",
    "\n"
   ]
  },
  {
   "cell_type": "markdown",
   "id": "5f52c31b",
   "metadata": {},
   "source": [
    "### Unet is split into 3 parts\n",
    "- **Encoder** (Left) where the image is reducing in dimensions but increasing in channels\n",
    "- **Bottleneck** (middle) where we preforms some convultions\n",
    "- **Decoder**(right) where we are upsampling using 2dconvolutions the image to it's original size\n",
    "\n",
    "### Additional techniques:\n",
    "- Residual(skip) connections. We add part of the data from previous layers to next ones\n",
    "\n",
    "In each \"block\" we are preforming these actions\n",
    "\n",
    "Convulution, batch normalization, relu activation, convolution batch norm then again relu activation"
   ]
  },
  {
   "cell_type": "code",
   "execution_count": 2,
   "id": "d932b1c5",
   "metadata": {},
   "outputs": [],
   "source": [
    "import torch\n",
    "from torch import nn\n",
    "\n",
    "class Block(nn.Module):\n",
    "    def __init__(self,in_ch,out_ch):\n",
    "        super().__init__()\n",
    "        self.conv1 = nn.Conv2d(in_ch, out_ch, 3)\n",
    "        self.relu  = nn.ReLU()\n",
    "        self.conv2 = nn.Conv2d(out_ch, out_ch, 3)\n",
    "            \n",
    "    #conv->reLU->conv->reLU    \n",
    "    def forward(self,x):\n",
    "        return self.relu(self.conv2(self.relu(self.conv1(x))))\n",
    "\n",
    "class Block2(nn.Module):\n",
    "    def __init__(self,in_ch,out_ch):\n",
    "        super().__init__()\n",
    "        self.conv1 = nn.Conv2d(in_ch,out_ch,3,padding=1)\n",
    "        self.relu = nn.ReLU()\n",
    "        self.conv2 = nn.Conv2d(out_ch,out_ch,3,padding=1)\n",
    "        self.bnorm = nn.BatchNorm2d(out_ch)\n",
    "        self.maxPool = nn.MaxPool2d(3,stride=2)\n",
    "        self.dropOut = nn.Dropout(0.25)\n",
    "        self.transform = nn.Conv2d(out_ch, out_ch, 4, 2, 1)\n",
    "    \n",
    "    def forward(self,x):\n",
    "        #First conv\n",
    "        h = self.bnorm(self.relu(self.conv1(x)))\n",
    "        #Second conv\n",
    "        h = self.bnorm(self.relu(self.conv2(x)))\n",
    "        #Third conv\n",
    "        return self.transform(h)\n",
    "    \n",
    "    \n",
    "    "
   ]
  },
  {
   "cell_type": "code",
   "execution_count": 7,
   "id": "ab1e820d",
   "metadata": {},
   "outputs": [],
   "source": [
    "enc_block = Block(1,64)\n",
    "enc_block2 = Block2(1,64)\n",
    "\n",
    "x= torch.rand(1,1,572,572)\n",
    "y = x"
   ]
  },
  {
   "cell_type": "code",
   "execution_count": 9,
   "id": "50ad5c80",
   "metadata": {},
   "outputs": [],
   "source": [
    "#enc_block(x).shape\n",
    "enc_block2(y).shape"
   ]
  },
  {
   "cell_type": "code",
   "execution_count": null,
   "id": "2746b94e",
   "metadata": {},
   "outputs": [],
   "source": []
  }
 ],
 "metadata": {
  "kernelspec": {
   "display_name": "Python 3 (ipykernel)",
   "language": "python",
   "name": "python3"
  },
  "language_info": {
   "codemirror_mode": {
    "name": "ipython",
    "version": 3
   },
   "file_extension": ".py",
   "mimetype": "text/x-python",
   "name": "python",
   "nbconvert_exporter": "python",
   "pygments_lexer": "ipython3",
   "version": "3.10.4 | packaged by conda-forge | (main, Mar 30 2022, 08:38:02) [MSC v.1916 64 bit (AMD64)]"
  },
  "varInspector": {
   "cols": {
    "lenName": 16,
    "lenType": 16,
    "lenVar": 40
   },
   "kernels_config": {
    "python": {
     "delete_cmd_postfix": "",
     "delete_cmd_prefix": "del ",
     "library": "var_list.py",
     "varRefreshCmd": "print(var_dic_list())"
    },
    "r": {
     "delete_cmd_postfix": ") ",
     "delete_cmd_prefix": "rm(",
     "library": "var_list.r",
     "varRefreshCmd": "cat(var_dic_list()) "
    }
   },
   "types_to_exclude": [
    "module",
    "function",
    "builtin_function_or_method",
    "instance",
    "_Feature"
   ],
   "window_display": false
  },
  "vscode": {
   "interpreter": {
    "hash": "0747f93ff6db21b2db2bf35ad4858dd0825b9c21797c41b4cc32097944ab3f10"
   }
  }
 },
 "nbformat": 4,
 "nbformat_minor": 5
}
