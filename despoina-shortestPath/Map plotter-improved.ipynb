{
 "cells": [
  {
   "cell_type": "code",
   "execution_count": 5,
   "id": "c244fb84",
   "metadata": {},
   "outputs": [],
   "source": [
    "import xml.etree.ElementTree as ET\n",
    "import matplotlib.pyplot as plt\n",
    "import numpy as np\n",
    "import matplotlib.pyplot as plt\n",
    "import pandas as pd\n",
    "from tqdm import tqdm\n",
    "import seaborn as sns\n",
    "import json"
   ]
  },
  {
   "cell_type": "code",
   "execution_count": 173,
   "id": "e6d0a070",
   "metadata": {},
   "outputs": [],
   "source": [
    "# import file\n",
    "tree = ET.parse('2.kml')\n",
    "root = tree.getroot()"
   ]
  },
  {
   "cell_type": "code",
   "execution_count": 174,
   "id": "1d3150a9",
   "metadata": {},
   "outputs": [],
   "source": [
    "# create empty array \n",
    "arr = np.empty((0,2))\n",
    "\n",
    "for i,placemark in enumerate(root.iter('{http://www.opengis.net/kml/2.2}Placemark')):\n",
    "    # Extract relevant data from placemark\n",
    "    name = placemark.find('{http://www.opengis.net/kml/2.2}name').text\n",
    "    coordinates = placemark.find('{http://www.opengis.net/kml/2.2}Point/{http://www.opengis.net/kml/2.2}coordinates').text\n",
    "    \n",
    "    # Add x,y coordinates to arrays \n",
    "    # split at \",\" and again at space for x coordinate\n",
    "    x = float(coordinates.split(',')[0].split(\" \")[-1])\n",
    "    y = float(coordinates.split(',')[1])\n",
    "    arr = np.append(arr,[[x,y]],axis=0)"
   ]
  },
  {
   "cell_type": "code",
   "execution_count": 187,
   "id": "b49e64e9",
   "metadata": {},
   "outputs": [
    {
     "data": {
      "image/png": "[encoded data removed]",
      "text/plain": [
       "<Figure size 432x288 with 1 Axes>"
      ]
     },
     "metadata": {
      "needs_background": "light"
     },
     "output_type": "display_data"
    }
   ],
   "source": [
    "# Plot datapoints \n",
    "plt.scatter(arr[:,0],arr[:,1])\n",
    "plt.xlabel('X-axis')\n",
    "plt.ylabel('Y-axis')\n",
    "plt.title('Coordinate Plot')\n",
    "\n",
    "# Adding annotations for each point\n",
    "#for i, txt in enumerate(arr[:,0]):\n",
    "#    plt.annotate(i+1, (arr[i][0], arr[i][1]), textcoords='offset points', xytext=(0, 10), ha='center')\n",
    "\n",
    "plt.show()"
   ]
  },
  {
   "cell_type": "code",
   "execution_count": 188,
   "id": "b85f38aa",
   "metadata": {},
   "outputs": [],
   "source": [
    "#instead of iterating over dims using loop,\n",
    "#use Numpy's built in functions\n",
    "def eucl_dist(x,y):\n",
    "    summation = 0\n",
    "    for dim in np.arange(len(x)):\n",
    "        summation += (x[dim] - y[dim])**2\n",
    "    \n",
    "    return np.sqrt(summation)\n",
    "\n",
    "def path_lenght(array):\n",
    "    differences = np.diff(array, axis=0)  # Calculate the differences between consecutive points\n",
    "    distances = np.linalg.norm(differences, axis=1)  # Calculate the Euclidean distances\n",
    "    length = np.sum(distances)  # Sum up the distances\n",
    "    length += np.linalg.norm(array[-1] - array[0])  # Add the distance between the last and first points\n",
    "    return length\n",
    "\n",
    "\n",
    "def distance_matrix2(points):\n",
    "    points_size = points.shape[0]\n",
    "    dist_mat = np.zeros((points_size, points_size))\n",
    "    \n",
    "    for i in range(points_size):\n",
    "        for j in range(i+1, points_size):  # Iterate only over the upper triangular part\n",
    "            dist = eucl_dist(points[i], points[j])\n",
    "            dist_mat[i, j] = dist\n",
    "            dist_mat[j, i] = dist  # Copy the value to the lower triangular part\n",
    "    \n",
    "    return dist_mat\n",
    "\n",
    "# optimze code by using Numpy's broadcasting feature\n",
    "# (allows element-wise operations without explicit loops)\n",
    "def distance_matrix(points):\n",
    "    # padd the points matrix \n",
    "    dist_mat = np.linalg.norm(points[:, np.newaxis] - points, axis=-1)\n",
    "    return dist_mat"
   ]
  },
  {
   "cell_type": "code",
   "execution_count": 189,
   "id": "d51f8b2d",
   "metadata": {},
   "outputs": [
    {
     "data": {
      "text/plain": [
       "<AxesSubplot:>"
      ]
     },
     "execution_count": 189,
     "metadata": {},
     "output_type": "execute_result"
    },
    {
     "data": {
      "image/png": "[encoded data removed]",
      "text/plain": [
       "<Figure size 432x288 with 2 Axes>"
      ]
     },
     "metadata": {
      "needs_background": "light"
     },
     "output_type": "display_data"
    }
   ],
   "source": [
    "dist_map = distance_matrix(arr)\n",
    "sns.heatmap(dist_map)"
   ]
  },
  {
   "cell_type": "code",
   "execution_count": 190,
   "id": "12f082f5",
   "metadata": {},
   "outputs": [],
   "source": [
    "def inverse_distance_matrix(points):\n",
    "    points_size = points.shape[0]\n",
    "    \n",
    "    # Calculate distance matrix using vectorized operations\n",
    "    dist_mat = np.linalg.norm(points[:, np.newaxis] - points, axis=-1)\n",
    "    \n",
    "    # Create an identity matrix and calculate inverse distances using broadcasting\n",
    "    #np.where(condition,x,y)\n",
    "    # np.eye is tru at diag.\n",
    "    # when cond is true, it assigns 0.0\n",
    "    inv_dist_mat = np.where(np.eye(points_size, dtype=bool), 0.0, 1.0 / dist_mat)\n",
    "    \n",
    "    return inv_dist_mat\n"
   ]
  },
  {
   "cell_type": "code",
   "execution_count": 191,
   "id": "9cbe8b18",
   "metadata": {},
   "outputs": [
    {
     "name": "stderr",
     "output_type": "stream",
     "text": [
      "C:\\Users\\DIMITRIS\\AppData\\Local\\Temp\\ipykernel_3408\\2777363980.py:11: RuntimeWarning: divide by zero encountered in divide\n",
      "  inv_dist_mat = np.where(np.eye(points_size, dtype=bool), 0.0, 1.0 / dist_mat)\n"
     ]
    },
    {
     "data": {
      "text/plain": [
       "<AxesSubplot:>"
      ]
     },
     "execution_count": 191,
     "metadata": {},
     "output_type": "execute_result"
    },
    {
     "data": {
      "image/png": "[encoded data removed]",
      "text/plain": [
       "<Figure size 432x288 with 2 Axes>"
      ]
     },
     "metadata": {
      "needs_background": "light"
     },
     "output_type": "display_data"
    }
   ],
   "source": [
    "inv_dist_mat = inverse_distance_matrix(arr)\n",
    "sns.heatmap(inv_dist_mat)"
   ]
  },
  {
   "cell_type": "code",
   "execution_count": 192,
   "id": "966a1cd8",
   "metadata": {},
   "outputs": [],
   "source": [
    "class Ant:\n",
    "    def __init__(self, n_locations):\n",
    "        self.n_locations = n_locations\n",
    "        self.position = np.random.choice(n_locations)\n",
    "        \n",
    "        self.places_visited = [self.position]\n",
    "        self.places_left = list(np.arange(n_locations))\n",
    "        self.places_left.remove(self.position)\n",
    "        \n",
    "        self.phero_graph = np.full((n_locations,n_locations),0.0)\n",
    "        self.tour_cost = 0.0\n",
    "\n",
    "    def ant_trip(self, g_phero_graph, dist_mat, inv_dist_mat, alpha=1, beta=1, Q=1):\n",
    "        #range based loop to avoid unessecary list indexing\n",
    "        for _ in range(len(self.places_left)):\n",
    "            # vectorized operations\n",
    "            allowed_weights = (g_phero_graph[self.position, self.places_left] ** alpha) * (inv_dist_mat[self.position, self.places_left] ** beta)\n",
    "            allowed_weights_sum = np.sum(allowed_weights)\n",
    "            travel_probas = allowed_weights / allowed_weights_sum\n",
    "\n",
    "            next_destination = np.random.choice(self.places_left, p=travel_probas)\n",
    "\n",
    "            self.tour_cost += dist_mat[self.position, next_destination]\n",
    "\n",
    "            self.position = next_destination\n",
    "            self.places_visited.append(next_destination)\n",
    "            self.places_left.remove(next_destination)\n",
    "\n",
    "        for i, j in zip(self.places_visited[:-1], self.places_visited[1:]):\n",
    "            self.phero_graph[i, j] = Q / self.tour_cost\n",
    "\n",
    "    def ant_flush(self):\n",
    "        \n",
    "        self.position = np.random.choice(self.n_locations)\n",
    "        self.places_visited = [self.position]\n",
    "        self.places_left = list(np.arange(self.n_locations))\n",
    "        \n",
    "        self.phero_graph = np.full((self.n_locations,self.n_locations),0.0)\n",
    "        self.places_left.remove(self.position)\n",
    "        self.tour_cost = 0.0\n"
   ]
  },
  {
   "cell_type": "code",
   "execution_count": 193,
   "id": "dc292909",
   "metadata": {},
   "outputs": [],
   "source": [
    "def update_pheromones(g_phero_graph, ants, evapo_coef=0.05):\n",
    "    evaporation_component = (1 - evapo_coef) * g_phero_graph\n",
    "    deposition_component = np.sum([ant.phero_graph for ant in ants], axis=0)\n",
    "    new_pheromones = evaporation_component + deposition_component\n",
    "    new_pheromones = np.maximum(new_pheromones, 1e-08)\n",
    "    return new_pheromones\n"
   ]
  },
  {
   "cell_type": "code",
   "execution_count": 196,
   "id": "a9e2082e",
   "metadata": {},
   "outputs": [],
   "source": [
    "def aco(points, alpha, beta, evapo_coef, colony_size, num_iter):\n",
    "    # Compute (once) the distance matrices\n",
    "    dist_mat = distance_matrix(points)\n",
    "    inv_dist_mat = inverse_distance_matrix(points)\n",
    "    \n",
    "    n_locations = points.shape[0]  # Total number of points\n",
    "    ants = [Ant(n_locations) for _ in range(colony_size)]  # Ant colony\n",
    "    \n",
    "    # Determine initial pheromone value\n",
    "    phero_init = (inv_dist_mat.mean())**(beta / alpha)\n",
    "    g_phero_graph = np.full((n_locations, n_locations), phero_init)  # Pheromone matrix (arbitrary initialization)\n",
    "    \n",
    "    # Determine scaling coefficient \"Q\"\n",
    "    [ant.ant_trip(g_phero_graph, dist_mat, inv_dist_mat, alpha, beta, Q=1) for ant in ants]\n",
    "    best_ant_idx = np.argmin([ant.tour_cost for ant in ants])\n",
    "    Q = ants[best_ant_idx].tour_cost * phero_init / (0.1 * colony_size)\n",
    "    print(Q)\n",
    "    \n",
    "    best_path_length = ants[best_ant_idx].tour_cost\n",
    "    best_path = ants[best_ant_idx].places_visited\n",
    "    \n",
    "    monitor_costs = []\n",
    "    \n",
    "    for _ in tqdm(range(num_iter)):\n",
    "        [ant.ant_trip(g_phero_graph, dist_mat, inv_dist_mat, alpha, beta, Q) for ant in ants]\n",
    "        g_phero_graph = update_pheromones(g_phero_graph, ants, evapo_coef)\n",
    "        \n",
    "        iteration_winner_idx = np.argmin([ant.tour_cost for ant in ants])\n",
    "        best_path_iteration = ants[iteration_winner_idx].places_visited\n",
    "        \n",
    "        if best_path_length > ants[iteration_winner_idx].tour_cost:\n",
    "            best_ant_idx = iteration_winner_idx\n",
    "            best_path = best_path_iteration\n",
    "            best_path_length = ants[iteration_winner_idx].tour_cost\n",
    "            \n",
    "        monitor_costs.append(best_path_length)\n",
    "        \n",
    "        [ant.ant_flush() for ant in ants]\n",
    "    \n",
    "    return best_path, monitor_costs\n"
   ]
  },
  {
   "cell_type": "code",
   "execution_count": 197,
   "id": "1aac860f",
   "metadata": {},
   "outputs": [
    {
     "name": "stderr",
     "output_type": "stream",
     "text": [
      "C:\\Users\\DIMITRIS\\AppData\\Local\\Temp\\ipykernel_3408\\2777363980.py:11: RuntimeWarning: divide by zero encountered in divide\n",
      "  inv_dist_mat = np.where(np.eye(points_size, dtype=bool), 0.0, 1.0 / dist_mat)\n"
     ]
    },
    {
     "name": "stdout",
     "output_type": "stream",
     "text": [
      "2.146632170663808\n"
     ]
    },
    {
     "name": "stderr",
     "output_type": "stream",
     "text": [
      "100%|██████████| 100/100 [00:05<00:00, 18.74it/s]\n"
     ]
    },
    {
     "name": "stdout",
     "output_type": "stream",
     "text": [
      "14.870378040843406\n",
      "\n"
     ]
    },
    {
     "data": {
      "image/png": "[encoded data removed]",
      "text/plain": [
       "<Figure size 1440x360 with 2 Axes>"
      ]
     },
     "metadata": {
      "needs_background": "light"
     },
     "output_type": "display_data"
    }
   ],
   "source": [
    "#3.5 times faster\n",
    "best_path, monitor_costs = aco(points = points, \n",
    "                               alpha = 1, \n",
    "                               beta = 1, \n",
    "                               evapo_coef = 0.05, \n",
    "                               colony_size = 50, \n",
    "                               num_iter = 100)\n",
    "\n",
    "\n",
    "print (monitor_costs[-1])\n",
    "print('')\n",
    "\n",
    "plt.figure(figsize=(20,5));\n",
    "plt.subplot(1,2,1);\n",
    "plt.plot(arr[best_path,0],\n",
    "         arr[best_path,1]);\n",
    "\n",
    "\n",
    "plt.subplot(1,2,2);\n",
    "plt.plot(np.arange(len(monitor_costs)),monitor_costs);"
   ]
  },
  {
   "cell_type": "code",
   "execution_count": 186,
   "id": "c5e2bf09",
   "metadata": {},
   "outputs": [
    {
     "data": {
      "image/png": "[encoded data removed]",
      "text/plain": [
       "<Figure size 432x288 with 1 Axes>"
      ]
     },
     "metadata": {
      "needs_background": "light"
     },
     "output_type": "display_data"
    }
   ],
   "source": [
    "arr = np.array([[2.12,0.7],[1.68,0.97],[1.28,1.5],[1.16,2.3],[1.12,4],\n",
    "                  [1.2,5.4],[1.32,7.2],[1.64,8.4],[1.92,8.6],[2.2,8],\n",
    "                  [2.52,7.6],[2.72,6.4],[2.8,4.8],[2.72,3.3],[2.56,2.3],[2.4,1.2]])\n",
    "#points.shape\n",
    "plt.scatter(points[:,0],points[:,1]);"
   ]
  },
  {
   "cell_type": "code",
   "execution_count": 184,
   "id": "9f318ebb",
   "metadata": {},
   "outputs": [],
   "source": [
    "#save results\n",
    "\n",
    "\n",
    "monitor_costs = [int(cost) for cost in monitor_costs]\n",
    "best_path = [int(point) for point in best_path]\n",
    "\n",
    "# Save variables to a file\n",
    "data = {'monitor_costs': monitor_costs, 'best_path': best_path}\n",
    "with open('save_file.json', 'w') as file:\n",
    "    json.dump(data, file)"
   ]
  }
 ],
 "metadata": {
  "kernelspec": {
   "display_name": "Python 3 (ipykernel)",
   "language": "python",
   "name": "python3"
  },
  "language_info": {
   "codemirror_mode": {
    "name": "ipython",
    "version": 3
   },
   "file_extension": ".py",
   "mimetype": "text/x-python",
   "name": "python",
   "nbconvert_exporter": "python",
   "pygments_lexer": "ipython3",
   "version": "3.10.4"
  },
  "varInspector": {
   "cols": {
    "lenName": 16,
    "lenType": 16,
    "lenVar": 40
   },
   "kernels_config": {
    "python": {
     "delete_cmd_postfix": "",
     "delete_cmd_prefix": "del ",
     "library": "var_list.py",
     "varRefreshCmd": "print(var_dic_list())"
    },
    "r": {
     "delete_cmd_postfix": ") ",
     "delete_cmd_prefix": "rm(",
     "library": "var_list.r",
     "varRefreshCmd": "cat(var_dic_list()) "
    }
   },
   "types_to_exclude": [
    "module",
    "function",
    "builtin_function_or_method",
    "instance",
    "_Feature"
   ],
   "window_display": false
  }
 },
 "nbformat": 4,
 "nbformat_minor": 5
}
