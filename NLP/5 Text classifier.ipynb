{
 "cells": [
  {
   "cell_type": "code",
   "execution_count": 9,
   "metadata": {},
   "outputs": [],
   "source": [
    "import string\n",
    "import matplotlib.pyplot as plt\n",
    "import numpy as np\n",
    "from sklearn.model_selection import train_test_split"
   ]
  },
  {
   "cell_type": "code",
   "execution_count": 10,
   "metadata": {},
   "outputs": [],
   "source": [
    "\n",
    "with open('datasets/allan_poe.txt','r',encoding='utf-8') as file:\n",
    "    allan_poe = file.read()\n",
    "\n",
    "\n",
    "\n",
    "with open('datasets/robert_frost.txt','r',encoding='utf-8') as file:\n",
    "    robert_frost= file.read()\n",
    "\n",
    "input_files = [allan_poe, robert_frost]"
   ]
  },
  {
   "cell_type": "code",
   "execution_count": 12,
   "metadata": {},
   "outputs": [],
   "source": [
    "input_texts = []\n",
    "labels = []\n",
    "\n",
    "\n",
    "\n",
    "for label,collection in enumerate(input_files):\n",
    "    #print(f\"{collection} corresponds to label {label}\")\n",
    "    \n",
    "   \n",
    "    #Loop each line\n",
    "    for index,line in enumerate(collection.split(\"\\n\")):\n",
    "        \n",
    "        #lowercase \n",
    "        line = line.lower()\n",
    "        if line:\n",
    "            # remove puncuation\n",
    "            line = line.translate(str.maketrans('','', string.punctuation))\n",
    "        \n",
    "        \n",
    "            input_texts.append(line)\n",
    "            labels.append(label)\n",
    "    \n",
    "    \n",
    "        "
   ]
  },
  {
   "cell_type": "code",
   "execution_count": 13,
   "metadata": {},
   "outputs": [
    {
     "name": "stdout",
     "output_type": "stream",
     "text": [
      "1618\n",
      "540\n"
     ]
    }
   ],
   "source": [
    "train_text, test_text, Ytrain, Ytest = train_test_split(input_texts, labels)\n",
    "print(len(Ytrain))\n",
    "print(len(Ytest))"
   ]
  },
  {
   "cell_type": "code",
   "execution_count": 16,
   "metadata": {},
   "outputs": [
    {
     "name": "stdout",
     "output_type": "stream",
     "text": [
      "['awake that night', 'thy heart thy heart i wake and sigh', 'how should he love thee or how deem thee wise']\n",
      "[1, 0, 0, 1, 1]\n"
     ]
    }
   ],
   "source": [
    "print(train_text[:3])\n",
    "print(Ytrain[:5])"
   ]
  },
  {
   "cell_type": "code",
   "execution_count": 17,
   "metadata": {},
   "outputs": [],
   "source": [
    "idx = 1\n",
    "word2idx = {'<unk>':0}"
   ]
  },
  {
   "cell_type": "code",
   "execution_count": 19,
   "metadata": {},
   "outputs": [],
   "source": [
    "#each line\n",
    "for line in train_text:\n",
    "    # tokenize with string split\n",
    "    for token in line.split():\n",
    "        if token not in  word2idx:\n",
    "            word2idx[token] = idx\n",
    "            idx += 1"
   ]
  },
  {
   "cell_type": "code",
   "execution_count": 21,
   "metadata": {},
   "outputs": [
    {
     "data": {
      "text/plain": [
       "2490"
      ]
     },
     "execution_count": 21,
     "metadata": {},
     "output_type": "execute_result"
    }
   ],
   "source": [
    "len(word2idx)"
   ]
  },
  {
   "cell_type": "code",
   "execution_count": 23,
   "metadata": {},
   "outputs": [],
   "source": [
    "#convert words to idx\n",
    "token_train_text = []\n",
    "token_test_text = []\n",
    "\n",
    "\n",
    "for line in train_text:\n",
    "    tokens = line.split()\n",
    "    line_as_int = [word2idx[word] for word in tokens]\n",
    "    token_train_text.append(line_as_int)\n",
    "    \n",
    "for line in test_text:\n",
    "    tokens = line.split()\n",
    "    line_as_int = []\n",
    "    for word in tokens:\n",
    "        if word not in word2idx:\n",
    "            line_as_int.append(word2idx['<unk>'])\n",
    "        else:\n",
    "            line_as_int.append(word2idx[word])\n",
    "                 \n",
    "\n",
    "    token_test_text.append(line_as_int)\n",
    "    \n",
    "        \n",
    "\n"
   ]
  },
  {
   "cell_type": "code",
   "execution_count": null,
   "metadata": {},
   "outputs": [],
   "source": []
  }
 ],
 "metadata": {
  "kernelspec": {
   "display_name": "Python 3",
   "language": "python",
   "name": "python3"
  },
  "language_info": {
   "codemirror_mode": {
    "name": "ipython",
    "version": 3
   },
   "file_extension": ".py",
   "mimetype": "text/x-python",
   "name": "python",
   "nbconvert_exporter": "python",
   "pygments_lexer": "ipython3",
   "version": "3.12.1"
  }
 },
 "nbformat": 4,
 "nbformat_minor": 2
}
