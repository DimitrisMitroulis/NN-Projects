{
 "cells": [
  {
   "cell_type": "code",
   "execution_count": 2,
   "metadata": {},
   "outputs": [],
   "source": [
    "import string\n",
    "import matplotlib.pyplot as plt\n",
    "import numpy as np\n",
    "from sklearn.model_selection import train_test_split"
   ]
  },
  {
   "cell_type": "code",
   "execution_count": 3,
   "metadata": {},
   "outputs": [],
   "source": [
    "\n",
    "with open('datasets/allan_poe.txt','r',encoding='utf-8') as file:\n",
    "    allan_poe = file.read()\n",
    "\n",
    "\n",
    "\n",
    "with open('datasets/robert_frost.txt','r',encoding='utf-8') as file:\n",
    "    robert_frost= file.read()\n",
    "\n",
    "input_files = [allan_poe, robert_frost]"
   ]
  },
  {
   "cell_type": "code",
   "execution_count": 4,
   "metadata": {},
   "outputs": [],
   "source": [
    "input_texts = []\n",
    "labels = []\n",
    "\n",
    "\n",
    "\n",
    "for label,collection in enumerate(input_files):\n",
    "    #print(f\"{collection} corresponds to label {label}\")\n",
    "    \n",
    "   \n",
    "    #Loop each line\n",
    "    for index,line in enumerate(collection.split(\"\\n\")):\n",
    "        \n",
    "        #lowercase \n",
    "        line = line.lower()\n",
    "        if line:\n",
    "            # remove puncuation\n",
    "            line = line.translate(str.maketrans('','', string.punctuation))\n",
    "        \n",
    "        \n",
    "            input_texts.append(line)\n",
    "            labels.append(label)\n",
    "    \n",
    "    \n",
    "        "
   ]
  },
  {
   "cell_type": "code",
   "execution_count": 5,
   "metadata": {},
   "outputs": [
    {
     "name": "stdout",
     "output_type": "stream",
     "text": [
      "1618\n",
      "540\n"
     ]
    }
   ],
   "source": [
    "train_text, test_text, Ytrain, Ytest = train_test_split(input_texts, labels)\n",
    "print(len(Ytrain))\n",
    "print(len(Ytest))"
   ]
  },
  {
   "cell_type": "code",
   "execution_count": 6,
   "metadata": {},
   "outputs": [
    {
     "name": "stdout",
     "output_type": "stream",
     "text": [
      "['let people in than i can keep them out ', 'its harmless mother hears it in the night', 'on last looking into his hesperides']\n",
      "[1, 1, 1, 1, 1]\n"
     ]
    }
   ],
   "source": [
    "print(train_text[:3])\n",
    "print(Ytrain[:5])"
   ]
  },
  {
   "cell_type": "code",
   "execution_count": 7,
   "metadata": {},
   "outputs": [
    {
     "name": "stdout",
     "output_type": "stream",
     "text": [
      "True\n"
     ]
    }
   ],
   "source": [
    "print(bool(Ytrain[0]))"
   ]
  },
  {
   "cell_type": "code",
   "execution_count": 8,
   "metadata": {},
   "outputs": [],
   "source": [
    "idx = 1\n",
    "word2idx = {'<unk>':0}"
   ]
  },
  {
   "cell_type": "code",
   "execution_count": 9,
   "metadata": {},
   "outputs": [],
   "source": [
    "# Populate word2idx\n",
    "# each line\n",
    "for line in train_text:\n",
    "    # tokenize with string split\n",
    "    for token in line.split():\n",
    "        if token not in  word2idx:\n",
    "            word2idx[token] = idx\n",
    "            idx += 1"
   ]
  },
  {
   "cell_type": "code",
   "execution_count": 10,
   "metadata": {},
   "outputs": [
    {
     "data": {
      "text/plain": [
       "2508"
      ]
     },
     "execution_count": 10,
     "metadata": {},
     "output_type": "execute_result"
    }
   ],
   "source": [
    "len(word2idx)"
   ]
  },
  {
   "cell_type": "code",
   "execution_count": 11,
   "metadata": {},
   "outputs": [],
   "source": [
    "#convert words to idx\n",
    "token_train_text = []\n",
    "token_test_text = []\n",
    "\n",
    "\n",
    "for line in train_text:\n",
    "    tokens = line.split()\n",
    "    line_as_int = [word2idx[word] for word in tokens]\n",
    "    token_train_text.append(line_as_int)\n",
    "    \n",
    "for line in test_text:\n",
    "    tokens = line.split()\n",
    "    line_as_int = []\n",
    "    for word in tokens:\n",
    "        if word not in word2idx:\n",
    "            line_as_int.append(word2idx['<unk>'])\n",
    "        else:\n",
    "            line_as_int.append(word2idx[word])\n",
    "                 \n",
    "\n",
    "    token_test_text.append(line_as_int)"
   ]
  },
  {
   "cell_type": "code",
   "execution_count": 12,
   "metadata": {},
   "outputs": [
    {
     "data": {
      "text/plain": [
       "[[143, 39, 386, 308, 39, 117, 74, 387, 41, 211],\n",
       " [56, 388, 64, 65, 389, 60],\n",
       " [390, 39, 118, 132, 117, 391, 245, 266, 35, 195],\n",
       " [143, 392, 15, 144, 32, 393, 9],\n",
       " [75, 75, 394, 395, 396, 395, 397, 4, 398]]"
      ]
     },
     "execution_count": 12,
     "metadata": {},
     "output_type": "execute_result"
    }
   ],
   "source": [
    "token_train_text[100:105]"
   ]
  },
  {
   "cell_type": "code",
   "execution_count": 13,
   "metadata": {},
   "outputs": [],
   "source": [
    "### Build Markov models ###\n",
    "\n",
    "# Step 1: set Ai and pi\n",
    "V = len(word2idx)\n",
    "\n",
    "A0 = np.ones((V,V))\n",
    "pi0 = np.ones(V)\n",
    "\n",
    "\n",
    "A1 = np.ones((V,V))\n",
    "pi1 = np.ones(V)\n",
    "\n",
    "# Step 2: Compute A, pi0\n",
    "\n",
    "\n",
    "def compute_counts(text_as_int,A,pi):\n",
    "    for tokens in text_as_int:\n",
    "        last_idx = None\n",
    "        for idx in tokens:\n",
    "            if last_idx is None:\n",
    "                # it's the first word in a sentence\n",
    "                pi[idx] += 1\n",
    "                \n",
    "            else:\n",
    "                # the last word exists, so count a transtision\n",
    "                A[last_idx.idx] += 1\n",
    "                \n",
    "        # update last idx\n",
    "        last_idx = idx\n",
    "        \n",
    "        \n",
    "compute_counts([t for t,y in zip(token_train_text,Ytrain) if y == 0], A0, pi0)\n",
    "compute_counts([t for t,y in zip(token_train_text,Ytrain) if y == 0], A1, pi1)\n"
   ]
  },
  {
   "cell_type": "code",
   "execution_count": null,
   "metadata": {},
   "outputs": [],
   "source": [
    "# Normalize counts for A and i\n",
    "A0 /= A0.sum(axis=1,keepdims=True)\n",
    "pi0 /= pi0.sum()\n",
    "\n",
    "A1 /= A1.sum(axis=1,keepdims=True)\n",
    "pi1 /= pi1.sum()"
   ]
  }
 ],
 "metadata": {
  "kernelspec": {
   "display_name": "Python 3",
   "language": "python",
   "name": "python3"
  },
  "language_info": {
   "codemirror_mode": {
    "name": "ipython",
    "version": 3
   },
   "file_extension": ".py",
   "mimetype": "text/x-python",
   "name": "python",
   "nbconvert_exporter": "python",
   "pygments_lexer": "ipython3",
   "version": "3.12.1"
  }
 },
 "nbformat": 4,
 "nbformat_minor": 2
}
