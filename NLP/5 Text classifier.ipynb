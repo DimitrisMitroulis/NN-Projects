{
 "cells": [
  {
   "cell_type": "code",
   "execution_count": 25,
   "metadata": {},
   "outputs": [],
   "source": [
    "import string\n",
    "import matplotlib.pyplot as plt\n",
    "import numpy as np\n",
    "from sklearn.model_selection import train_test_split"
   ]
  },
  {
   "cell_type": "code",
   "execution_count": 26,
   "metadata": {},
   "outputs": [],
   "source": [
    "\n",
    "with open('datasets/allan_poe.txt','r',encoding='utf-8') as file:\n",
    "    allan_poe = file.read()\n",
    "\n",
    "\n",
    "\n",
    "with open('datasets/robert_frost.txt','r',encoding='utf-8') as file:\n",
    "    robert_frost= file.read()\n",
    "\n",
    "input_files = [allan_poe, robert_frost]"
   ]
  },
  {
   "cell_type": "code",
   "execution_count": 27,
   "metadata": {},
   "outputs": [],
   "source": [
    "input_texts = []\n",
    "labels = []\n",
    "\n",
    "\n",
    "\n",
    "for label,collection in enumerate(input_files):\n",
    "    #print(f\"{collection} corresponds to label {label}\")\n",
    "    \n",
    "   \n",
    "    #Loop each line\n",
    "    for index,line in enumerate(collection.split(\"\\n\")):\n",
    "        \n",
    "        #lowercase \n",
    "        line = line.lower()\n",
    "        if line:\n",
    "            # remove puncuation\n",
    "            line = line.translate(str.maketrans('','', string.punctuation))\n",
    "        \n",
    "        \n",
    "            input_texts.append(line)\n",
    "            labels.append(label)\n",
    "    \n",
    "    \n",
    "        "
   ]
  },
  {
   "cell_type": "code",
   "execution_count": 28,
   "metadata": {},
   "outputs": [
    {
     "name": "stdout",
     "output_type": "stream",
     "text": [
      "1618\n",
      "540\n"
     ]
    }
   ],
   "source": [
    "train_text, test_text, Ytrain, Ytest = train_test_split(input_texts, labels)\n",
    "print(len(Ytrain))\n",
    "print(len(Ytest))"
   ]
  },
  {
   "cell_type": "code",
   "execution_count": 29,
   "metadata": {},
   "outputs": [
    {
     "name": "stdout",
     "output_type": "stream",
     "text": [
      "['that gave out in return for the lovelight ', 'what wild hearthistories seemed to he enwritten ', 'the poetess had sighed i knew in heaven']\n",
      "[0, 0, 1, 1, 1]\n"
     ]
    }
   ],
   "source": [
    "print(train_text[:3])\n",
    "print(Ytrain[:5])"
   ]
  },
  {
   "cell_type": "code",
   "execution_count": 39,
   "metadata": {},
   "outputs": [
    {
     "name": "stdout",
     "output_type": "stream",
     "text": [
      "False\n"
     ]
    }
   ],
   "source": [
    "print(bool(Ytrain[0]))"
   ]
  },
  {
   "cell_type": "code",
   "execution_count": 30,
   "metadata": {},
   "outputs": [],
   "source": [
    "idx = 1\n",
    "word2idx = {'<unk>':0}"
   ]
  },
  {
   "cell_type": "code",
   "execution_count": 31,
   "metadata": {},
   "outputs": [],
   "source": [
    "# Populate word2idx\n",
    "# each line\n",
    "for line in train_text:\n",
    "    # tokenize with string split\n",
    "    for token in line.split():\n",
    "        if token not in  word2idx:\n",
    "            word2idx[token] = idx\n",
    "            idx += 1"
   ]
  },
  {
   "cell_type": "code",
   "execution_count": 32,
   "metadata": {},
   "outputs": [
    {
     "data": {
      "text/plain": [
       "2514"
      ]
     },
     "execution_count": 32,
     "metadata": {},
     "output_type": "execute_result"
    }
   ],
   "source": [
    "len(word2idx)"
   ]
  },
  {
   "cell_type": "code",
   "execution_count": 33,
   "metadata": {},
   "outputs": [],
   "source": [
    "#convert words to idx\n",
    "token_train_text = []\n",
    "token_test_text = []\n",
    "\n",
    "\n",
    "for line in train_text:\n",
    "    tokens = line.split()\n",
    "    line_as_int = [word2idx[word] for word in tokens]\n",
    "    token_train_text.append(line_as_int)\n",
    "    \n",
    "for line in test_text:\n",
    "    tokens = line.split()\n",
    "    line_as_int = []\n",
    "    for word in tokens:\n",
    "        if word not in word2idx:\n",
    "            line_as_int.append(word2idx['<unk>'])\n",
    "        else:\n",
    "            line_as_int.append(word2idx[word])\n",
    "                 \n",
    "\n",
    "    token_test_text.append(line_as_int)"
   ]
  },
  {
   "cell_type": "code",
   "execution_count": 34,
   "metadata": {},
   "outputs": [
    {
     "data": {
      "text/plain": [
       "[[163, 17, 7, 388, 389, 390, 225, 391],\n",
       " [4, 7, 392, 393, 319, 42, 43],\n",
       " [217, 394, 13, 271, 4, 297, 395, 4, 297],\n",
       " [181, 256, 36, 54, 396, 344, 19, 44, 397],\n",
       " [256, 193, 49, 398, 123, 229, 399, 316]]"
      ]
     },
     "execution_count": 34,
     "metadata": {},
     "output_type": "execute_result"
    }
   ],
   "source": [
    "token_train_text[100:105]"
   ]
  },
  {
   "cell_type": "code",
   "execution_count": 37,
   "metadata": {},
   "outputs": [
    {
     "name": "stdout",
     "output_type": "stream",
     "text": [
      "0\n"
     ]
    }
   ],
   "source": [
    "### Build Markov models ###\n",
    "\n",
    "# Step 1: set Ai and pi\n",
    "V = len(word2idx)\n",
    "\n",
    "A0 = np.ones((V,V))\n",
    "pi0 = np.ones(V)\n",
    "\n",
    "\n",
    "A1 = np.ones((V,V))\n",
    "pi1 = np.ones(V)\n",
    "\n",
    "# Step 2: Compute A, pi0\n",
    "class_no = 0\n",
    "\n",
    "# for each i, j\n",
    "for i, token_i  in enumerate(word2idx.values()):\n",
    "    for j, token_j  in enumerate(word2idx.values()):\n",
    "        count = 0\n",
    "        # if correct class\n",
    "        if  Ytrain[j] == class_no:\n",
    "            \n",
    "            # for each word\n",
    "            for index in range(len(token_train_text)-1):\n",
    "                if token_train_text[index] == token_i:\n",
    "                    if token_train_text[index+1] == token_j:\n",
    "                        count =+ 1             \n",
    "            \n",
    "            A0[i,j] = count\n",
    "        \n",
    "            \n",
    "        \n",
    "\n"
   ]
  },
  {
   "cell_type": "code",
   "execution_count": null,
   "metadata": {},
   "outputs": [],
   "source": []
  }
 ],
 "metadata": {
  "kernelspec": {
   "display_name": "Python 3",
   "language": "python",
   "name": "python3"
  },
  "language_info": {
   "codemirror_mode": {
    "name": "ipython",
    "version": 3
   },
   "file_extension": ".py",
   "mimetype": "text/x-python",
   "name": "python",
   "nbconvert_exporter": "python",
   "pygments_lexer": "ipython3",
   "version": "3.12.1"
  }
 },
 "nbformat": 4,
 "nbformat_minor": 2
}
