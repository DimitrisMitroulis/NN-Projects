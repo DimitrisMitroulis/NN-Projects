{
 "cells": [
  {
   "cell_type": "code",
   "execution_count": 231,
   "id": "d4a28888",
   "metadata": {},
   "outputs": [],
   "source": [
    "import numpy as np\n",
    "import pandas as pd\n",
    "from sklearn.model_selection import train_test_split\n",
    "import re\n",
    "import random"
   ]
  },
  {
   "cell_type": "code",
   "execution_count": 145,
   "id": "6a24f20a",
   "metadata": {},
   "outputs": [
    {
     "name": "stdout",
     "output_type": "stream",
     "text": [
      "(718, 1)\n",
      "(1436, 1)\n"
     ]
    }
   ],
   "source": [
    "# Read the text file into a DataFrame\n",
    "AlPoe = pd.read_csv('datasets/allan_poe.txt', delimiter='/n', header=None,engine='python')\n",
    "RobFrost = pd.read_csv('datasets/robert_frost.txt', delimiter='/n', header=None,engine='python')\n",
    "\n",
    "# Display the DataFrame\n",
    "print(AlPoe.shape)\n",
    "print(RobFrost.shape)"
   ]
  },
  {
   "cell_type": "code",
   "execution_count": 212,
   "id": "5b64cd07",
   "metadata": {},
   "outputs": [],
   "source": [
    "AlanTrain, AlanTest = train_test_split(AlPoe, test_size=0.2, random_state=42)\n",
    "RobTrain, RobTest = train_test_split(RobFrost[:len(AlPoe)], test_size=0.2, random_state=42)"
   ]
  },
  {
   "cell_type": "code",
   "execution_count": 223,
   "id": "b7b88acb",
   "metadata": {},
   "outputs": [],
   "source": [
    "def tokenize(df):\n",
    "    uniqueWords = []\n",
    "    # for each row\n",
    "    for index, row in df.iterrows():\n",
    "        row = re.sub(\" , [0-2][0-9]:[0-5][0-9]\", \"\",str(row.values))\n",
    "        row = re.sub(\"[,|!|.|?|\\\"}\\][\\']\", \"\", row)\n",
    "        words = [w.lower() for w in row.split()]\n",
    "\n",
    "        for word in words:\n",
    "            if word not in uniqueWords:\n",
    "                uniqueWords.append(word)\n",
    "    \n",
    "    return uniqueWords\n",
    "\n",
    "def UnknownIndex(df,table):\n",
    "    uniqueWords = []\n",
    "    # for each row\n",
    "    for index, row in df.iterrows():\n",
    "        row = re.sub(\" , [0-2][0-9]:[0-5][0-9]\", \"\",str(row.values))\n",
    "        row = re.sub(\"[,|!|.|?|\\\"}\\][\\']\", \"\", row)\n",
    "        words = [w.lower() for w in row.split()]\n",
    "\n",
    "        for word in words:\n",
    "            if word not in uniqueWords and word not in table:\n",
    "                uniqueWords.append(word)\n",
    "                \n",
    "    \n",
    "    return uniqueWords\n",
    "\n",
    "\n",
    "# loop Alan poe\n",
    "AlanuniqueWords = tokenize(AlanTrain)\n",
    "RobuniqueWords = tokenize(RobTrain)\n",
    "\n",
    "AlanUnknownWords = UnknownIndex(AlanTest, AlanTrain)\n",
    "RobUnknownWords = UnknownIndex(RobTest, RobTrain)\n"
   ]
  },
  {
   "cell_type": "code",
   "execution_count": 235,
   "id": "56baf0c6",
   "metadata": {},
   "outputs": [],
   "source": [
    "def train_markov_model(sequence,order):\n",
    "    markov_model = {}\n",
    "    for i in range(len(sequence) - order):\n",
    "        context = sequence[i:i+order]\n",
    "        next_char = sequence[i+order]\n",
    "        if context not in markov_model:\n",
    "            markov_model[context] = {}\n",
    "        if next_char not in markov_model[context]:\n",
    "            markov_model[context][next_char] = 0\n",
    "        markov_model[context][next_char] += 1\n",
    "    return markov_model\n",
    "\n",
    "def generate_text(markov_model, initial_context, length):\n",
    "    current_context = initial_context\n",
    "    generated_text = current_context\n",
    "    for _ in range(length):\n",
    "        if current_context not in markov_model:\n",
    "            break\n",
    "        next_chars = list(markov_model[current_context].keys())\n",
    "        next_char = random.choice(next_chars)\n",
    "        generated_text += next_char\n",
    "        current_context = generated_text[-len(initial_context):]\n",
    "    return generated_text\n",
    "\n"
   ]
  },
  {
   "cell_type": "code",
   "execution_count": 255,
   "id": "596b3e08",
   "metadata": {},
   "outputs": [],
   "source": [
    "with open('datasets/allan_poe.txt', 'r', encoding='utf-8') as file:\n",
    "    alan = file.read()\n",
    "\n",
    "with open('datasets/robert_frost.txt', 'r', encoding='utf-8') as file:\n",
    "    rob = file.read()\n",
    "\n",
    "    \n",
    "alan = re.sub(\" , [0-2][0-9]:[0-5][0-9]\", \"\",alan)\n",
    "alan = re.sub(\"[,|!|.|?|\\\"}\\][\\']\", \"\", alan)    \n",
    "alan = re.sub(\"\\\\n\", \"\", alan)   \n",
    "\n",
    "\n",
    "rob = re.sub(\"\\\\n\", \"\", rob)   \n",
    "    "
   ]
  },
  {
   "cell_type": "code",
   "execution_count": 256,
   "id": "e29ca671",
   "metadata": {},
   "outputs": [
    {
     "name": "stdout",
     "output_type": "stream",
     "text": [
      "Lonnyths,Statmok led-losigs neysAppoorgen,Havy dwe S\n"
     ]
    }
   ],
   "source": [
    "order = 2\n",
    "\n",
    "# Train the Markov model\n",
    "markov_model = train_markov_model(rob, order)\n",
    "\n",
    "# Generate new text\n",
    "initial_context = sequence[:order]\n",
    "generated_text = generate_text(markov_model, initial_context, 50)\n",
    "\n",
    "print(generated_text)"
   ]
  },
  {
   "cell_type": "code",
   "execution_count": null,
   "id": "99d23e98",
   "metadata": {},
   "outputs": [],
   "source": []
  }
 ],
 "metadata": {
  "kernelspec": {
   "display_name": "Python 3 (ipykernel)",
   "language": "python",
   "name": "python3"
  },
  "language_info": {
   "codemirror_mode": {
    "name": "ipython",
    "version": 3
   },
   "file_extension": ".py",
   "mimetype": "text/x-python",
   "name": "python",
   "nbconvert_exporter": "python",
   "pygments_lexer": "ipython3",
   "version": "3.10.4"
  },
  "varInspector": {
   "cols": {
    "lenName": 16,
    "lenType": 16,
    "lenVar": 40
   },
   "kernels_config": {
    "python": {
     "delete_cmd_postfix": "",
     "delete_cmd_prefix": "del ",
     "library": "var_list.py",
     "varRefreshCmd": "print(var_dic_list())"
    },
    "r": {
     "delete_cmd_postfix": ") ",
     "delete_cmd_prefix": "rm(",
     "library": "var_list.r",
     "varRefreshCmd": "cat(var_dic_list()) "
    }
   },
   "types_to_exclude": [
    "module",
    "function",
    "builtin_function_or_method",
    "instance",
    "_Feature"
   ],
   "window_display": false
  }
 },
 "nbformat": 4,
 "nbformat_minor": 5
}
